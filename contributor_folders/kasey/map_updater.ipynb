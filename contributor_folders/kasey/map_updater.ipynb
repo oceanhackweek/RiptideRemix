{
 "cells": [
  {
   "cell_type": "code",
   "execution_count": 2,
   "id": "7e3e2b00-4bf2-466b-940f-fbb7d23bd73b",
   "metadata": {},
   "outputs": [
    {
     "ename": "SyntaxError",
     "evalue": "invalid syntax (1331454869.py, line 1)",
     "output_type": "error",
     "traceback": [
      "  \u001b[36mCell\u001b[39m\u001b[36m \u001b[39m\u001b[32mIn[2]\u001b[39m\u001b[32m, line 1\u001b[39m\n\u001b[31m    \u001b[39m\u001b[31mpixi activate default\u001b[39m\n         ^\n\u001b[31mSyntaxError\u001b[39m\u001b[31m:\u001b[39m invalid syntax\n"
     ]
    }
   ],
   "source": []
  },
  {
   "cell_type": "code",
   "execution_count": 1,
   "id": "4b0d45d6-094c-40a1-b1cd-41374f06b289",
   "metadata": {},
   "outputs": [
    {
     "name": "stderr",
     "output_type": "stream",
     "text": [
      "/home/jovyan/ohw25_proj_RiptideRemix/.pixi/envs/default/lib/python3.12/site-packages/tqdm/auto.py:21: TqdmWarning: IProgress not found. Please update jupyter and ipywidgets. See https://ipywidgets.readthedocs.io/en/stable/user_install.html\n",
      "  from .autonotebook import tqdm as notebook_tqdm\n"
     ]
    }
   ],
   "source": [
    "import copernicusmarine\n",
    "import xarray as xr\n",
    "\n",
    "def retrieve_data(lats, longs, parameter):\n",
    "    \"\"\"\n",
    "    Retrieve data from the Copernicus Marine server.\n",
    "\n",
    "    Parameters\n",
    "    ----------\n",
    "    lats : tuple\n",
    "        (min_lat, max_lat) for the region of interest.\n",
    "    longs : tuple\n",
    "        (min_lon, max_lon) for the region of interest.\n",
    "    parameter : str\n",
    "        Parameter to retrieve. Options:\n",
    "        - \"chl\" : Chlorophyll\n",
    "        - \"sst\" : Temperature (\"thetao_mean\")\n",
    "        - \"sal\" : Salinity (\"so_mean\")\n",
    "        - \"ssh\" : Sea Height (\"zos_mean\")\n",
    "        - \"mlt\" : Mixed Layer Thickness (\"mlotst_mean\")\n",
    "        - \"eke\" : Eddy Kinetic Energy (\"uo_mean , vo_mean\")\n",
    "    start_date : str, optional\n",
    "        Start date in ISO format (YYYY-MM-DD). If None, take earliest.\n",
    "    end_date : str, optional\n",
    "        End date in ISO format (YYYY-MM-DD). If None, take latest.\n",
    "\n",
    "    Returns\n",
    "    -------\n",
    "    xarray.Dataset\n",
    "        Dataset containing the requested variable for the specified region and time.\n",
    "    \"\"\"\n",
    "    # If we want a pretty green chlorophyll plot we need to open a different dataset.\n",
    "    if parameter == \"chl\":\n",
    "        dataset_id = \"cmems_mod_glo_bgc-pft_anfc_0.25deg_P1D-m\"\n",
    "        variables = [\"chl\"]\n",
    "    else:\n",
    "        dataset_id = \"cmems_mod_glo_phy-mnstd_my_0.25deg_P1D-m\"\n",
    "        parameter_map = {\n",
    "            \"sst\": \"thetao_mean\",\n",
    "            \"sal\": \"so_mean\",\n",
    "            \"ssh\": \"zos_mean\",\n",
    "            \"mlt\": \"mlotst_mean\",\n",
    "            \"eke\": [\"uo_mean\", \"vo_mean\"]}\n",
    "    if parameter not in parameter_map:\n",
    "        raise ValueError(f\"Invalid parameter '{parameter}'. Choose from {list(parameter_map.keys())}\")\n",
    "    variable = parameter_map[parameter]\n",
    "\n",
    "    ds = copernicusmarine.open_dataset( dataset_id=dataset_id, variables=variable, minimum_latitude=lats[0], \n",
    "                                        maximum_latitude=lats[1], minimum_longitude=longs[0], maximum_longitude=longs[1])\n",
    "\n",
    "    # Compute Eddy Kinetic Energy if 'eke' is selected\n",
    "    if parameter == \"eke\":\n",
    "        u = ds[\"uo_mean\"]\n",
    "        v = ds[\"vo_mean\"]\n",
    "        eke = 0.5 * (u**2 + v**2)\n",
    "        ds = eke.to_dataset(name=\"eke\")\n",
    "\n",
    "    print(ds)\n",
    "    return ds    "
   ]
  },
  {
   "cell_type": "code",
   "execution_count": null,
   "id": "d50b3498-43c7-4679-8920-ea74e31665ad",
   "metadata": {},
   "outputs": [],
   "source": [
    "import matplotlib.pyplot as plt\n",
    "import cartopy.crs as ccrs\n",
    "import cartopy.feature as cfeature\n",
    "from matplotlib.offsetbox import AnchoredText\n",
    "from matplotlib.animation import FuncAnimation, PillowWriter\n",
    "import xarray as xr\n",
    "import numpy as np\n",
    "\n",
    "def update_base_map(longs, lats, parameter_name):\n",
    "    fig = plt.figure()\n",
    "    ax = fig.add_subplot(1, 1, 1, projection=ccrs.PlateCarree())\n",
    "    ax.set_extent([longs[0], longs[1], lats[0], lats[1]], crs=ccrs.PlateCarree())\n",
    "\n",
    "    # Put a background image on for nice sea rendering.\n",
    "    ax.stock_img()\n",
    "\n",
    "    # Create a feature for States/Admin 1 regions at 1:50m from Natural Earth.\n",
    "    states_provinces = cfeature.NaturalEarthFeature(\n",
    "        category='cultural',\n",
    "        name='admin_1_states_provinces_lines',\n",
    "        scale='50m',\n",
    "        facecolor='none')\n",
    "\n",
    "    SOURCE = 'OceanHackWeek2025'\n",
    "    LICENSE = 'public domain'\n",
    "\n",
    "    # Add our states feature.\n",
    "    ax.add_feature(states_provinces, edgecolor='gray')\n",
    "    # Add land feature, overriding the default negative zorder so it shows\n",
    "    # above the background image.\n",
    "    ax.add_feature(cfeature.LAND, zorder=1, edgecolor='k')\n",
    "\n",
    "    # Add a text annotation for the license information to the\n",
    "    # the bottom right corner.\n",
    "    text = AnchoredText('\\u00A9 {}; license: {}'\n",
    "                        ''.format(SOURCE, LICENSE),\n",
    "                        loc=4, prop={'size': 6}, frameon=True)\n",
    "    ax.add_artist(text)\n",
    "\n",
    "    plt.show()"
   ]
  },
  {
   "cell_type": "code",
   "execution_count": null,
   "id": "1b9d336e-eb21-4a35-9122-275e45c05c58",
   "metadata": {},
   "outputs": [],
   "source": [
    "update_base_map([-10, 180], [-60, 60], \"beans\")"
   ]
  }
 ],
 "metadata": {
  "kernelspec": {
   "display_name": "Python (Pixi)",
   "language": "python",
   "name": "pixi-kernel-python3"
  },
  "language_info": {
   "codemirror_mode": {
    "name": "ipython",
    "version": 3
   },
   "file_extension": ".py",
   "mimetype": "text/x-python",
   "name": "python",
   "nbconvert_exporter": "python",
   "pygments_lexer": "ipython3",
   "version": "3.12.11"
  }
 },
 "nbformat": 4,
 "nbformat_minor": 5
}
