{
 "cells": [
  {
   "cell_type": "code",
   "execution_count": null,
   "id": "0e85d0d7-c685-4668-a04a-97195856bc15",
   "metadata": {},
   "outputs": [],
   "source": [
    "import hvplot.xarray\n",
    "import panel as pn\n",
    "import holoviews as hv\n",
    "\n",
    "data[\"eke\"].hvplot(groupby=\"time\", widget_location='bottom')\n",
    "\n",
    "# Create the animation\n",
    "data[\"eke\"].hvplot(groupby=\"time\", widget_location='bottom', frame_width=750, frame_height=250)\n",
    "#plot = plot.opts( xaxis=None, yaxis=None, xlabel='', ylabel='', title='', show_legend=False)\n",
    "\n",
    "#dmap = hv.DynamicMap(plot, kdims=['time'])\n",
    "#pn.extension()\n",
    "#pn.panel(dmap, autoplay=True)"
   ]
  }
 ],
 "metadata": {
  "kernelspec": {
   "display_name": "Python (Pixi)",
   "language": "python",
   "name": "pixi-kernel-python3"
  },
  "language_info": {
   "codemirror_mode": {
    "name": "ipython",
    "version": 3
   },
   "file_extension": ".py",
   "mimetype": "text/x-python",
   "name": "python",
   "nbconvert_exporter": "python",
   "pygments_lexer": "ipython3",
   "version": "3.12.11"
  }
 },
 "nbformat": 4,
 "nbformat_minor": 5
}
