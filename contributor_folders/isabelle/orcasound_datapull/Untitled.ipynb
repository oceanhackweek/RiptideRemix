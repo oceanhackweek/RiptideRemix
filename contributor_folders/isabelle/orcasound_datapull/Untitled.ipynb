{
 "cells": [
  {
   "cell_type": "markdown",
   "id": "0ef0a421-5973-4755-9ef6-757a802bfa36",
   "metadata": {},
   "source": [
    "# Pull OrcaSound hydrophone data from Amazon Web Service buckets"
   ]
  },
  {
   "cell_type": "code",
   "execution_count": null,
   "id": "367fea18-4f5c-4f14-b02a-5683c1d4c713",
   "metadata": {},
   "outputs": [],
   "source": [
    "from datetime import datetime, timedelta\n",
    "import pytz\n",
    "import os\n",
    "import boto3\n",
    "from botocore.config import Config\n",
    "from botocore import UNSIGNED\n",
    "import pandas as pd\n",
    "import ffmpeg\n",
    "import glob\n",
    "from pathlib import Path\n",
    "import shutil\n",
    "import paramiko\n",
    "import json"
   ]
  },
  {
   "cell_type": "code",
   "execution_count": null,
   "id": "2193f876-5a59-4dda-8506-c9e595f992c2",
   "metadata": {},
   "outputs": [],
   "source": []
  }
 ],
 "metadata": {
  "kernelspec": {
   "display_name": "Python 3 (ipykernel)",
   "language": "python",
   "name": "python3"
  },
  "language_info": {
   "codemirror_mode": {
    "name": "ipython",
    "version": 3
   },
   "file_extension": ".py",
   "mimetype": "text/x-python",
   "name": "python",
   "nbconvert_exporter": "python",
   "pygments_lexer": "ipython3",
   "version": "3.12.11"
  }
 },
 "nbformat": 4,
 "nbformat_minor": 5
}
