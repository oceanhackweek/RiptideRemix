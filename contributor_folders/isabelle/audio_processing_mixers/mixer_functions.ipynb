{
 "cells": [
  {
   "cell_type": "markdown",
   "id": "6dd7440d-3e5d-40ff-8fcb-1a92c1ffebb3",
   "metadata": {},
   "source": [
    "# Mix the tunes"
   ]
  },
  {
   "cell_type": "code",
   "execution_count": null,
   "id": "d711f8f3-fbc7-460f-aba5-4a27dec138f5",
   "metadata": {},
   "outputs": [],
   "source": [
    "import numpy as np \n",
    "import pandas as pd\n",
    "import ffmpeg\n",
    "from pathlib import Path\n",
    "\n",
    "import glob\n",
    "import os\n",
    "import shutil\n",
    "\n",
    "import IPython.display as ipd\n",
    "from scipy.io import wavfile\n",
    "from scipy import signal\n",
    "\n",
    "from pydub import AudioSegment\n",
    "import matplotlib.pyplot as plt \n",
    "from scipy.signal import resample\n",
    "from pydub.effects import speedup"
   ]
  },
  {
   "cell_type": "markdown",
   "id": "75ba012a-46f7-45a9-a6a1-476d268b4dbc",
   "metadata": {},
   "source": [
    "### Pull all the available wavs that you can work with"
   ]
  },
  {
   "cell_type": "code",
   "execution_count": null,
   "id": "7accde21-57ab-4ce4-8ec5-7f40c98c1147",
   "metadata": {},
   "outputs": [],
   "source": [
    "def pull_available_wavs(source_dir, target_dir, extension):\n",
    "    source_dir = os.path.expanduser(source_dir)\n",
    "    target_dir = os.path.expanduser(target_dir)\n",
    "    \n",
    "    # Create target directory if it doesn't exist, make pattern to find wavs via glob match\n",
    "    os.makedirs(target_dir, exist_ok=True)\n",
    "    pattern = os.path.join(source_dir, f\"*.{extension}\")\n",
    "    matching_files = glob.glob(pattern, recursive=False)\n",
    "\n",
    "    # Add each file to a list\n",
    "    available_wavs = [f for f in glob.glob(pattern) if os.path.isfile(f)]\n",
    "    \n",
    "    # Copy each file to target directory\n",
    "    for file_path in matching_files:\n",
    "        if os.path.isfile(file_path):\n",
    "            filename = os.path.basename(file_path)\n",
    "            target_path = os.path.join(target_dir, filename)\n",
    "            shutil.copy2(file_path, target_path)\n",
    "\n",
    "    return available_wavs\n",
    "\n",
    "avail_wavs = pull_available_wavs(\"~/ohw25_proj_RiptideRemix/data/template_sounds\", \"~/ohw25_proj_RiptideRemix/contributor_folders/isabelle/audio_processing_mixers/available_wavs\", \"wav\")"
   ]
  },
  {
   "cell_type": "markdown",
   "id": "f7f2b930-b379-4078-99b4-b2c74696795c",
   "metadata": {},
   "source": [
    "### Generate your empty waveform and add the first clip"
   ]
  },
  {
   "cell_type": "code",
   "execution_count": null,
   "id": "58a970c8-b86f-4e94-943e-91bddd451796",
   "metadata": {},
   "outputs": [],
   "source": [
    "sample_rate = 44100\n",
    "duration = 60\n",
    "empty_audio = np.zeros(int(sample_rate * duration), dtype=np.float32)\n",
    "\n",
    "wavfile.write('my_song.wav', sample_rate, empty_audio)\n",
    "print(\"The original empty song file is length: \", len(empty_audio))\n"
   ]
  },
  {
   "cell_type": "code",
   "execution_count": null,
   "id": "9df61c8d-b11d-4b8f-8f05-aa54d6dc8725",
   "metadata": {},
   "outputs": [],
   "source": [
    "ipd.Audio(avail_wavs[2])"
   ]
  },
  {
   "cell_type": "code",
   "execution_count": null,
   "id": "e22a6da6-4f85-4389-8bd8-e7062699e7c6",
   "metadata": {},
   "outputs": [],
   "source": [
    "def process_one_clip_to_add(clip, start_time, loop_val, loud_val, ptch_spd_val, gen_sr=44100, max_len=60):\n",
    "    max_len = gen_sr * max_len\n",
    "    print(\"NEXT FILE____________________________\")\n",
    "    sr, d = wavfile.read(clip)\n",
    "    if len(d.shape) > 1:\n",
    "        d = d.mean(axis=1)\n",
    "    if np.max(np.abs(d)) != 0: d = d / np.max(np.abs(d))  # Normalize the amplitudes\n",
    "    \n",
    "    print(\"The raw sampling rate and length are: \", sr, len(d))\n",
    "\n",
    "    # Modify sampling rate to match the file we are building on\n",
    "    if sr != 44100:\n",
    "        ratio = 44100 / sr\n",
    "        d = signal.resample(d, int(len(d) * ratio))        # Use Fourier method for better quality\n",
    "        sr = 44100\n",
    "    \n",
    "    # Loop\n",
    "    sr_looped, d_looped = loop(sr, d, loop_val)\n",
    "    print(\"Length of looped file: \", len(d_looped))\n",
    "\n",
    "    # Loudness\n",
    "    sr_loop_amp, d_loop_amp = loud(sr_looped, d_looped, loud_val)\n",
    "    \n",
    "    # Pitch/Speed\n",
    "    sr_loop_amp_ps, d_loop_amp_ps = pitch_speed(sr_loop_amp, d_loop_amp, ptch_spd_val)\n",
    "\n",
    "    sr = sr_loop_amp_ps\n",
    "    d = d_loop_amp_ps\n",
    "    \n",
    "    # Length and start time adjustment\n",
    "    start_chunk_len = start_time * sr\n",
    "    strt_zero_chunk = np.zeros(start_chunk_len)\n",
    "    padded_d = np.concatenate((strt_zero_chunk, d))\n",
    "\n",
    "    if len(padded_d) > 2646000: d = padded_d[:2646000]\n",
    "    elif len(padded_d) < 2646000: d = np.append(padded_d, np.zeros(2646000 - len(padded_d)))\n",
    "    else: d = padded_d\n",
    "\n",
    "    return sr, d\n",
    "\n",
    "\n",
    "def loop(sr, d, num_loops):\n",
    "    d_looped = np.tile(d, num_loops)\n",
    "    sr_looped = sr\n",
    "    return sr_looped, d_looped\n",
    "\n",
    "\n",
    "def loud(sr, d, loud_val):\n",
    "    d_amp = d * loud_val\n",
    "    sr_amp = sr\n",
    "    return sr_amp, d_amp\n",
    "\n",
    "\n",
    "def pitch_speed(sr, d, factor):\n",
    "    num_samples = int(len(d) / factor)\n",
    "    y_pitched = resample(d, num_samples)\n",
    "    sr_pitched = sr\n",
    "    return sr_pitched, y_pitched"
   ]
  },
  {
   "cell_type": "code",
   "execution_count": null,
   "id": "f027b2d2-8b5d-4aa6-bb20-80af21f9aca7",
   "metadata": {},
   "outputs": [],
   "source": [
    "def combine_clips(base_song, clips_to_add):\n",
    "    sr_base, d_base = wavfile.read(base_song)\n",
    "    plt.figure(figsize=(10, 4))\n",
    "    plt.plot(np.arange(0, len(d_base)) / sr_base, d_base, 'b')\n",
    "    \n",
    "    srs, ds, combined_sounds = [], [], []\n",
    "    for index, row in clips_to_add.iterrows():        \n",
    "        sr, d = process_one_clip_to_add(row['clip'], row['start_time'], row['loops'], row['loudness'], row['pitch_speed'])\n",
    "        srs.append(sr)\n",
    "        ds.append(d)\n",
    "        plt.plot(np.arange(0, len(d)) / sr, (d-(1.5*index), 'r')\n",
    "    \n",
    "    plt.figure(figsize=(10, 4))\n",
    "    plt.plot(np.arange(0, len(d_base)) / sr_base, d_base, 'b')\n",
    "\n",
    "    plt.xlabel('Time (s)'), plt.ylabel('Amplitude')\n",
    "    plt.title('My Song!')\n",
    "    plt.grid(True, alpha=0.3)\n",
    "    \n",
    "    combined_sounds = d1+d2\n",
    "    wavfile.write('my_final_song.wav', sr1, np.array(combined_sounds, dtype=np.float32))\n",
    "    \n",
    "    return\n",
    "\n",
    "combine_clips('my_song.wav', \n",
    "ipd.Audio('my_final_song.wav')\n",
    "#ipd.Audio(avail_wavs[3])\n"
   ]
  },
  {
   "cell_type": "code",
   "execution_count": null,
   "id": "5413aae7-a953-4272-9446-f83878ce75ef",
   "metadata": {},
   "outputs": [],
   "source": [
    "clips_to_add = pd.DataFrame(columns=['clip', 'start_time', 'loops', 'loudness', 'pitch_speed'])"
   ]
  },
  {
   "cell_type": "code",
   "execution_count": null,
   "id": "ae41cba3-adac-4475-a168-11a51d6f6b60",
   "metadata": {},
   "outputs": [],
   "source": [
    "## SELECT YOUR CLIP:\n",
    "audio_selected = avail_wavs[0]\n",
    "sr, d = wavfile.read(audio_selected)\n",
    "d = d / np.max(np.abs(d))\n",
    "\n",
    "## INPUTS FROM THE DASHBOARD:\n",
    "\n",
    "start_time = 0          # 0 - 60\n",
    "loops = 5               # 1 - 60\n",
    "loudness = 1            # 0 - 2\n",
    "pitch_speed = 1         # 0 - 4\n",
    "\n",
    "clips_to_add.loc[len(clips_to_add)] = [audio_selected, start_time, loops, loudness, pitch_speed]\n",
    "print(clips_to_add)"
   ]
  },
  {
   "cell_type": "code",
   "execution_count": null,
   "id": "29720a3b-e1d1-4e44-95fe-c9116b77e6f7",
   "metadata": {},
   "outputs": [],
   "source": []
  }
 ],
 "metadata": {
  "kernelspec": {
   "display_name": "Python (Pixi)",
   "language": "python",
   "name": "pixi-kernel-python3"
  },
  "language_info": {
   "codemirror_mode": {
    "name": "ipython",
    "version": 3
   },
   "file_extension": ".py",
   "mimetype": "text/x-python",
   "name": "python",
   "nbconvert_exporter": "python",
   "pygments_lexer": "ipython3",
   "version": "3.12.11"
  }
 },
 "nbformat": 4,
 "nbformat_minor": 5
}
