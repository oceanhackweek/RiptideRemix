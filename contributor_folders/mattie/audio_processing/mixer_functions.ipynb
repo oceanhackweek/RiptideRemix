{
 "cells": [
  {
   "cell_type": "markdown",
   "id": "6dd7440d-3e5d-40ff-8fcb-1a92c1ffebb3",
   "metadata": {},
   "source": [
    "# Mix the tunes"
   ]
  },
  {
   "cell_type": "code",
   "execution_count": 2,
   "id": "d711f8f3-fbc7-460f-aba5-4a27dec138f5",
   "metadata": {},
   "outputs": [
    {
     "ename": "ModuleNotFoundError",
     "evalue": "No module named 'pyrubberband'",
     "output_type": "error",
     "traceback": [
      "\u001b[31m---------------------------------------------------------------------------\u001b[39m",
      "\u001b[31mModuleNotFoundError\u001b[39m                       Traceback (most recent call last)",
      "\u001b[36mCell\u001b[39m\u001b[36m \u001b[39m\u001b[32mIn[2]\u001b[39m\u001b[32m, line 13\u001b[39m\n\u001b[32m     11\u001b[39m \u001b[38;5;28;01mfrom\u001b[39;00m\u001b[38;5;250m \u001b[39m\u001b[34;01mscipy\u001b[39;00m\u001b[34;01m.\u001b[39;00m\u001b[34;01mio\u001b[39;00m\u001b[38;5;250m \u001b[39m\u001b[38;5;28;01mimport\u001b[39;00m wavfile\n\u001b[32m     12\u001b[39m \u001b[38;5;28;01mfrom\u001b[39;00m\u001b[38;5;250m \u001b[39m\u001b[34;01mscipy\u001b[39;00m\u001b[34;01m.\u001b[39;00m\u001b[34;01msignal\u001b[39;00m\u001b[38;5;250m \u001b[39m\u001b[38;5;28;01mimport\u001b[39;00m resample\n\u001b[32m---> \u001b[39m\u001b[32m13\u001b[39m \u001b[38;5;28;01mimport\u001b[39;00m\u001b[38;5;250m \u001b[39m\u001b[34;01mpyrubberband\u001b[39;00m\u001b[38;5;250m \u001b[39m\u001b[38;5;28;01mas\u001b[39;00m\u001b[38;5;250m \u001b[39m\u001b[34;01mpyrb\u001b[39;00m\n",
      "\u001b[31mModuleNotFoundError\u001b[39m: No module named 'pyrubberband'"
     ]
    }
   ],
   "source": [
    "import numpy as np \n",
    "import pandas as pd\n",
    "import ffmpeg\n",
    "from pathlib import Path\n",
    "\n",
    "import glob\n",
    "import os\n",
    "import shutil\n",
    "\n",
    "import IPython.display as ipd\n",
    "from scipy.io import wavfile\n",
    "from scipy.signal import resample\n",
    "import pyrubberband as pyrb\n"
   ]
  },
  {
   "cell_type": "markdown",
   "id": "75ba012a-46f7-45a9-a6a1-476d268b4dbc",
   "metadata": {},
   "source": [
    "### Pull all the available wavs that you can work with"
   ]
  },
  {
   "cell_type": "code",
   "execution_count": null,
   "id": "7accde21-57ab-4ce4-8ec5-7f40c98c1147",
   "metadata": {},
   "outputs": [],
   "source": [
    "def pull_available_wavs(source_dir, target_dir, extension):\n",
    "    source_dir = os.path.expanduser(source_dir)\n",
    "    target_dir = os.path.expanduser(target_dir)\n",
    "    \n",
    "    # Create target directory if it doesn't exist, make pattern to find wavs via glob match\n",
    "    os.makedirs(target_dir, exist_ok=True)\n",
    "    pattern = os.path.join(source_dir, f\"*.{extension}\")\n",
    "    matching_files = glob.glob(pattern, recursive=False)\n",
    "\n",
    "    # Add each file to a list\n",
    "    available_wavs = [f for f in glob.glob(pattern) if os.path.isfile(f)]\n",
    "    \n",
    "    # Copy each file to target directory\n",
    "    for file_path in matching_files:\n",
    "        if os.path.isfile(file_path):\n",
    "            filename = os.path.basename(file_path)\n",
    "            target_path = os.path.join(target_dir, filename)\n",
    "            shutil.copy2(file_path, target_path)\n",
    "\n",
    "    return available_wavs\n",
    "\n",
    "avail_wavs = pull_available_wavs(\"~/ohw25_proj_RiptideRemix/data/template_sounds\", \"~/ohw25_proj_RiptideRemix/contributor_folders/isabelle/audio_processing_mixers/available_wavs\", \"wav\")"
   ]
  },
  {
   "cell_type": "code",
   "execution_count": null,
   "id": "6c00d487-eec1-41fb-8a7c-61cf4eae78d8",
   "metadata": {},
   "outputs": [],
   "source": [
    "print(\"Playing \", avail_wavs[5])\n",
    "ipd.Audio(avail_wavs[5])"
   ]
  },
  {
   "cell_type": "markdown",
   "id": "f7f2b930-b379-4078-99b4-b2c74696795c",
   "metadata": {},
   "source": [
    "### Loop file as many times as user requests, but will cut off at 60 seconds"
   ]
  },
  {
   "cell_type": "code",
   "execution_count": null,
   "id": "ae5930e3-7bcc-40c4-93c6-c7b66af73239",
   "metadata": {},
   "outputs": [],
   "source": [
    "def loop(input_file, output_file, num_loops, max_duration=60):\n",
    "    sr, y = wavfile.read(input_file)\n",
    "\n",
    "    num_samples = y.shape[0]\n",
    "    max_samples = int(max_duration * sr)\n",
    "\n",
    "    if y.ndim == 1:\n",
    "        y_looped = np.tile(y, num_loops)\n",
    "    else:\n",
    "        y_looped = np.tile(y, (num_loops, 1))\n",
    "\n",
    "    y_final = y_looped[:max_samples]\n",
    "\n",
    "    wavfile.write(output_file, sr, y_final.astype(y.dtype))\n",
    "\n",
    "    return \n",
    "\n",
    "loop(avail_wavs[5], \"loop_exp.wav\", 3)"
   ]
  },
  {
   "cell_type": "code",
   "execution_count": null,
   "id": "aa2d7ed6-557b-4124-97ee-8ceaa68a366c",
   "metadata": {},
   "outputs": [],
   "source": [
    "ipd.Audio(\"loop_exp.wav\")"
   ]
  },
  {
   "cell_type": "markdown",
   "id": "a5739f0e-d8c5-49ff-931d-760b9647c587",
   "metadata": {},
   "source": [
    "### Increase speed / pitch"
   ]
  },
  {
   "cell_type": "code",
   "execution_count": null,
   "id": "54e53278-0b5b-4fe5-8124-bb8a178eb2d4",
   "metadata": {},
   "outputs": [],
   "source": [
    "def pitch(input_file, output_file, factor):\n",
    "\n",
    "    sr, y = wavfile.read(input_file)\n",
    "    \n",
    "    num_samples = int(len(y) / factor)\n",
    "    y_resampled = resample(y, num_samples)\n",
    "    \n",
    "    wavfile.write(output_file, sr, y_resampled.astype(y.dtype))\n",
    "    return\n",
    "\n",
    "def speed(input_file, output_file, factor):\n",
    "    sr, y = wavfile.read(input_file)\n",
    "    y_stretch = pyrb.time_stretch(y, sr, factor)\n",
    "    wavfile.write(output_file, sr, y_stretch.astype(y.dtype))\n",
    "\n",
    "    return\n",
    "\n",
    "speed(avail_wavs[5], \"pitch_exp.wav\", 1)"
   ]
  },
  {
   "cell_type": "code",
   "execution_count": null,
   "id": "079c5d62-8222-48ba-a500-fdd99e4fc94d",
   "metadata": {},
   "outputs": [],
   "source": [
    "ipd.Audio(\"pitch_exp.wav\")"
   ]
  },
  {
   "cell_type": "markdown",
   "id": "5f40d809-ebd0-4709-9253-d22ef4613d07",
   "metadata": {},
   "source": [
    "### Increase amplitude"
   ]
  },
  {
   "cell_type": "code",
   "execution_count": null,
   "id": "b89a5636-632b-44c1-b4d0-aa519f6a2531",
   "metadata": {},
   "outputs": [],
   "source": [
    "def amplitude(input_file, output_file, gain_factor):\n",
    "    sr, y = wavfile.read(input_file)\n",
    "    \n",
    "    y_amplified = y.astype(np.float32) * gain_factor\n",
    "    \n",
    "    wavfile.write(output_file, sr, y_amplified)\n",
    "    return\n",
    "\n",
    "amplitude(avail_wavs[5], \"amp_exp.wav\", 1)"
   ]
  },
  {
   "cell_type": "code",
   "execution_count": null,
   "id": "26691746-516f-4e52-81cf-b74b36c7fff1",
   "metadata": {},
   "outputs": [],
   "source": [
    "ipd.Audio(\"amp_exp.wav\")"
   ]
  },
  {
   "cell_type": "code",
   "execution_count": null,
   "id": "ea5f7221-4585-42d7-9896-bdc5377f73ee",
   "metadata": {},
   "outputs": [],
   "source": [
    "#fix heightened background noise"
   ]
  }
 ],
 "metadata": {
  "kernelspec": {
   "display_name": "Python (Pixi)",
   "language": "python",
   "name": "pixi-kernel-python3"
  },
  "language_info": {
   "codemirror_mode": {
    "name": "ipython",
    "version": 3
   },
   "file_extension": ".py",
   "mimetype": "text/x-python",
   "name": "python",
   "nbconvert_exporter": "python",
   "pygments_lexer": "ipython3",
   "version": "3.12.11"
  }
 },
 "nbformat": 4,
 "nbformat_minor": 5
}
